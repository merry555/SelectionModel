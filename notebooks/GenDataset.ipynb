{
 "cells": [
  {
   "cell_type": "code",
   "execution_count": 2,
   "id": "68922897",
   "metadata": {},
   "outputs": [],
   "source": [
    "import json\n",
    "from tqdm import tqdm\n",
    "import pandas as pd"
   ]
  },
  {
   "cell_type": "code",
   "execution_count": 3,
   "id": "69bac053",
   "metadata": {},
   "outputs": [],
   "source": [
    "df = pd.read_parquet('/home/jisukim/playground-NLP/DPR/selected_model/datasets/test_top1_dataset.parquet')"
   ]
  },
  {
   "cell_type": "code",
   "execution_count": 2,
   "id": "57828535",
   "metadata": {},
   "outputs": [],
   "source": [
    "with open(\"/home/jisukim/playground-NLP/DPR/roberta/datasets_selected/gold_32/selected_model_test_dataset.json\") as f:\n",
    "    train = json.load(f)"
   ]
  },
  {
   "cell_type": "code",
   "execution_count": 30,
   "id": "9ad9d4f6",
   "metadata": {},
   "outputs": [],
   "source": [
    "with open(\"/home/jisukim/playground-NLP/DPR/roberta/datasets_selected/gold_32/selected_model_valid_dataset.json\") as f:\n",
    "    train = json.load(f)"
   ]
  },
  {
   "cell_type": "code",
   "execution_count": null,
   "id": "9a70f815",
   "metadata": {},
   "outputs": [],
   "source": [
    "# question, passage > label"
   ]
  },
  {
   "cell_type": "code",
   "execution_count": 3,
   "id": "ad4e6186",
   "metadata": {},
   "outputs": [
    {
     "data": {
      "text/plain": [
       "28156"
      ]
     },
     "execution_count": 3,
     "metadata": {},
     "output_type": "execute_result"
    }
   ],
   "source": [
    "len(train['data'])"
   ]
  },
  {
   "cell_type": "code",
   "execution_count": 19,
   "id": "bd2cdf8c",
   "metadata": {},
   "outputs": [
    {
     "name": "stderr",
     "output_type": "stream",
     "text": [
      "100%|█████████████████████████████████████████████████████████████████████████████████████████████████████████████████████████████████████████████████████████████████████████████████| 28156/28156 [00:00<00:00, 133888.29it/s]\n"
     ]
    }
   ],
   "source": [
    "# 20\n",
    "questions = []\n",
    "passages = []\n",
    "labels = []\n",
    "\n",
    "for i in tqdm(range(len(train['data']))):\n",
    "    for j in range(len(train['data'][i]['passages'][:10])):\n",
    "        questions.append(train['data'][i]['question'])\n",
    "        passages.append(train['data'][i]['passages'][j])\n",
    "        labels.append(train['data'][i]['selected_labels'][j])"
   ]
  },
  {
   "cell_type": "code",
   "execution_count": 20,
   "id": "0634e726",
   "metadata": {},
   "outputs": [],
   "source": [
    "df_top1 = pd.DataFrame()\n",
    "\n",
    "df_top1['questions'] = questions\n",
    "df_top1['passages'] = passages\n",
    "df_top1['labels'] = labels"
   ]
  },
  {
   "cell_type": "code",
   "execution_count": 21,
   "id": "db9b4336",
   "metadata": {},
   "outputs": [],
   "source": [
    "df_top1.to_parquet('/home/jisukim/playground-NLP/DPR/selected_model/datasets/test_top10_dataset.parquet')"
   ]
  },
  {
   "cell_type": "code",
   "execution_count": 7,
   "id": "7d1592d9",
   "metadata": {},
   "outputs": [
    {
     "data": {
      "text/html": [
       "<div>\n",
       "<style scoped>\n",
       "    .dataframe tbody tr th:only-of-type {\n",
       "        vertical-align: middle;\n",
       "    }\n",
       "\n",
       "    .dataframe tbody tr th {\n",
       "        vertical-align: top;\n",
       "    }\n",
       "\n",
       "    .dataframe thead th {\n",
       "        text-align: right;\n",
       "    }\n",
       "</style>\n",
       "<table border=\"1\" class=\"dataframe\">\n",
       "  <thead>\n",
       "    <tr style=\"text-align: right;\">\n",
       "      <th></th>\n",
       "      <th>questions</th>\n",
       "      <th>passages</th>\n",
       "      <th>labels</th>\n",
       "    </tr>\n",
       "  </thead>\n",
       "  <tbody>\n",
       "    <tr>\n",
       "      <th>0</th>\n",
       "      <td>학교밖청소년지원센터 꿈드림을 이용하는 청소년들 중에서 검정고시를 본 사람은 얼마나 돼?</td>\n",
       "      <td>충남 당진시청소년상담복지센터 부설 학교 밖 청소년지원센터 '꿈드림'에 다니던 학교 ...</td>\n",
       "      <td>0</td>\n",
       "    </tr>\n",
       "  </tbody>\n",
       "</table>\n",
       "</div>"
      ],
      "text/plain": [
       "                                          questions  \\\n",
       "0  학교밖청소년지원센터 꿈드림을 이용하는 청소년들 중에서 검정고시를 본 사람은 얼마나 돼?   \n",
       "\n",
       "                                            passages  labels  \n",
       "0  충남 당진시청소년상담복지센터 부설 학교 밖 청소년지원센터 '꿈드림'에 다니던 학교 ...       0  "
      ]
     },
     "execution_count": 7,
     "metadata": {},
     "output_type": "execute_result"
    }
   ],
   "source": [
    "df_top1.head(1)"
   ]
  },
  {
   "cell_type": "code",
   "execution_count": null,
   "id": "d1d1b875",
   "metadata": {},
   "outputs": [],
   "source": [
    "# /home/jisukim/playground-NLP/DPR/roberta/datasets_selected/gold_32/selected_model_valid_dataset.json\n",
    "with open(\"/home/jisukim/playground-NLP/DPR/roberta/datasets_selected/gold_32/selected_model_valid_dataset.json\") as f:\n",
    "    valid = json.load(f)"
   ]
  },
  {
   "cell_type": "code",
   "execution_count": null,
   "id": "6ba44169",
   "metadata": {},
   "outputs": [],
   "source": []
  }
 ],
 "metadata": {
  "kernelspec": {
   "display_name": "llmscience",
   "language": "python",
   "name": "llmscience"
  },
  "language_info": {
   "codemirror_mode": {
    "name": "ipython",
    "version": 3
   },
   "file_extension": ".py",
   "mimetype": "text/x-python",
   "name": "python",
   "nbconvert_exporter": "python",
   "pygments_lexer": "ipython3",
   "version": "3.8.16"
  }
 },
 "nbformat": 4,
 "nbformat_minor": 5
}

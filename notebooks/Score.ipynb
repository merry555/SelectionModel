{
 "cells": [
  {
   "cell_type": "code",
   "execution_count": 24,
   "id": "0365f705",
   "metadata": {},
   "outputs": [],
   "source": [
    "import pandas as pd\n",
    "from sklearn.metrics import f1_score, accuracy_score\n",
    "from tqdm import tqdm"
   ]
  },
  {
   "cell_type": "markdown",
   "id": "45112e9e",
   "metadata": {},
   "source": [
    "### Top@1"
   ]
  },
  {
   "cell_type": "code",
   "execution_count": 30,
   "id": "01deca11",
   "metadata": {},
   "outputs": [],
   "source": [
    "df = pd.read_csv('/home/jisukim/playground-NLP/DPR/selected_model/test_result_top1.csv')"
   ]
  },
  {
   "cell_type": "code",
   "execution_count": 32,
   "id": "5597496f",
   "metadata": {},
   "outputs": [
    {
     "name": "stdout",
     "output_type": "stream",
     "text": [
      "0.8708422805996094\n",
      "0.8893663872709192\n",
      "0.8893663872709192\n"
     ]
    }
   ],
   "source": [
    "print(f1_score(df['pred'].values, df['labels'].values, average='macro'))\n",
    "print(f1_score(df['pred'].values, df['labels'].values, average='micro'))\n",
    "print(accuracy_score(df['pred'].values, df['labels'].values))"
   ]
  },
  {
   "cell_type": "markdown",
   "id": "7b0642ce",
   "metadata": {},
   "source": [
    "### Top@5"
   ]
  },
  {
   "cell_type": "code",
   "execution_count": 13,
   "id": "22204837",
   "metadata": {},
   "outputs": [],
   "source": [
    "df = pd.read_csv('/home/jisukim/playground-NLP/DPR/selected_model/test_result_top5.csv')"
   ]
  },
  {
   "cell_type": "code",
   "execution_count": 19,
   "id": "b194c654",
   "metadata": {},
   "outputs": [
    {
     "data": {
      "text/plain": [
       "28156.0"
      ]
     },
     "execution_count": 19,
     "metadata": {},
     "output_type": "execute_result"
    }
   ],
   "source": [
    "len(df)/5"
   ]
  },
  {
   "cell_type": "code",
   "execution_count": 28,
   "id": "6d99395a",
   "metadata": {},
   "outputs": [
    {
     "name": "stderr",
     "output_type": "stream",
     "text": [
      "100%|██████████████████████████████████████████████████████████████████████████████████████████████████████████████████████████████████████████████████████████| 28156/28156 [02:02<00:00, 229.49it/s]\n"
     ]
    }
   ],
   "source": [
    "acc = []\n",
    "macro_f1 = []\n",
    "micro_f1 = []\n",
    "\n",
    "for i in tqdm(range(int(len(df)/5))):\n",
    "    acc.append(accuracy_score(df.iloc[i*5:(i+1)*5]['pred'].values, df.iloc[i*5:(i+1)*5]['labels'].values))\n",
    "    macro_f1.append(f1_score(df.iloc[i*5:(i+1)*5]['pred'].values, df.iloc[i*5:(i+1)*5]['labels'].values, average='macro'))\n",
    "    micro_f1.append(f1_score(df.iloc[i*5:(i+1)*5]['pred'].values, df.iloc[i*5:(i+1)*5]['labels'].values, average='micro'))"
   ]
  },
  {
   "cell_type": "code",
   "execution_count": 29,
   "id": "8d09738a",
   "metadata": {},
   "outputs": [
    {
     "name": "stdout",
     "output_type": "stream",
     "text": [
      "0.9098238386134394\n",
      "0.8462174038294582\n",
      "0.9098238386134395\n"
     ]
    }
   ],
   "source": [
    "import numpy as np\n",
    "\n",
    "print(np.mean(acc))\n",
    "print(np.mean(macro_f1))\n",
    "print(np.mean(micro_f1))"
   ]
  },
  {
   "cell_type": "code",
   "execution_count": 14,
   "id": "c2c44a89",
   "metadata": {},
   "outputs": [
    {
     "name": "stdout",
     "output_type": "stream",
     "text": [
      "              precision    recall  f1-score   support\n",
      "\n",
      "           0     0.9713    0.9170    0.9433    115234\n",
      "           1     0.7009    0.8776    0.7794     25546\n",
      "\n",
      "    accuracy                         0.9098    140780\n",
      "   macro avg     0.8361    0.8973    0.8613    140780\n",
      "weighted avg     0.9222    0.9098    0.9136    140780\n",
      "\n"
     ]
    }
   ],
   "source": [
    "print(classification_report(df['pred'], df['labels'], digits=4))"
   ]
  }
 ],
 "metadata": {
  "kernelspec": {
   "display_name": "llmscience",
   "language": "python",
   "name": "llmscience"
  },
  "language_info": {
   "codemirror_mode": {
    "name": "ipython",
    "version": 3
   },
   "file_extension": ".py",
   "mimetype": "text/x-python",
   "name": "python",
   "nbconvert_exporter": "python",
   "pygments_lexer": "ipython3",
   "version": "3.8.16"
  }
 },
 "nbformat": 4,
 "nbformat_minor": 5
}
